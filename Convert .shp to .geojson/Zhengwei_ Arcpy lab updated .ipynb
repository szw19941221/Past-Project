{
 "cells": [
  {
   "cell_type": "code",
   "execution_count": 1,
   "metadata": {
    "collapsed": true
   },
   "outputs": [],
   "source": [
    "import sys\n",
    "sys.path.append('C:\\\\Program Files (x86)\\\\ArcGIS\\\\Desktop10.4\\\\bin')\n",
    "sys.path.append('C:\\\\Program Files (x86)\\\\ArcGIS\\\\Desktop10.4\\\\arcpy')\n",
    "sys.path.append('C:\\\\Program Files (x86)\\\\ArcGIS\\\\Desktop10.4\\\\ArcToolbox\\\\Scripts')\n",
    "import arcpy "
   ]
  },
  {
   "cell_type": "raw",
   "metadata": {},
   "source": [
    "# Change projection from Washington South to UTM Zone 13N"
   ]
  },
  {
   "cell_type": "code",
   "execution_count": 3,
   "metadata": {
    "collapsed": false
   },
   "outputs": [],
   "source": [
    "input_feature = r\"C:\\\\Users\\\\sunz4\\\\Desktop\\\\shapefile\\\\saep_bg10.shp\"\n",
    "out_feature = r\"C:\\\\Users\\\\sunz4\\\\Desktop\\\\shapefile_UTM\\\\saep_10.shp\"\n",
    "out_coordinate = arcpy.SpatialReference('NAD 1983 UTM Zone 13N')\n",
    "new_projection = arcpy.Project_management(input_feature, out_feature, out_coordinate)"
   ]
  },
  {
   "cell_type": "code",
   "execution_count": 2,
   "metadata": {
    "collapsed": false
   },
   "outputs": [
    {
     "data": {
      "text/plain": [
       "'U:\\\\GEOG 458\\\\Arcpy Lab\\\\County_shp'"
      ]
     },
     "execution_count": 2,
     "metadata": {},
     "output_type": "execute_result"
    }
   ],
   "source": [
    "from subprocess import call\n",
    "import os\n",
    "os.environ[\"GDAL_DATA\"] = \"C:\\\\OSGeo4W64\\\\share\\\\gdal\"\n",
    "os.environ[\"GDAL_DRIVER_PATH\"] = \"C:\\\\OSGeo4W64\\\\bin\\\\gdalplugins\"\n",
    "os.environ[\"PROJ_LIB\"] = \"C:\\\\OSGeo4W64\\\\share\\\\proj\"\n",
    "os.environ[\"PATH\"] = \"C:\\\\OSGeo4W64\\\\bin;\"+os.environ[\"PATH\"]+\";C:\\\\OSGeo4W64\\\\apps\\\\msys\\\\bin;C:\\\\OSGeo4W64\\\\apps\\\\Python27\\\\Scripts\"\n",
    "\n",
    "os.chdir('U:\\\\GEOG 458\\\\Arcpy Lab\\\\County_shp')\n",
    "os.getcwd() # Set path for all the Geojson files"
   ]
  },
  {
   "cell_type": "code",
   "execution_count": 3,
   "metadata": {
    "collapsed": true
   },
   "outputs": [],
   "source": [
    "f = (\"U:\\\\GEOG 458\\\\Arcpy Lab\\\\New_Shp_UTM\\\\saep_10.shp\")\n",
    "t = (\"C:\\\\Users\\\\sunz4\\\\Downloads\\\\WashingtonFIPS.dbf\")"
   ]
  },
  {
   "cell_type": "code",
   "execution_count": null,
   "metadata": {
    "collapsed": true
   },
   "outputs": [],
   "source": [
    "join = arcpy.JoinField_management(f, \"COUNTYFP10\", t, \"FIPSCounty\")"
   ]
  },
  {
   "cell_type": "code",
   "execution_count": 114,
   "metadata": {
    "collapsed": false
   },
   "outputs": [
    {
     "name": "stdout",
     "output_type": "stream",
     "text": [
      "['001', '003', '005', '007', '009', '011', '013', '015', '017', '019', '021', '023', '025', '027', '029', '031', '033', '035', '037', '039', '041', '043', '045', '047', '049', '051', '053', '055', '057', '059', '061', '063', '065', '067', '069', '071', '073', '075', '077']\n",
      "['Adams', 'Asotin', 'Benton', 'Chelan', 'Clallam', 'Clark', 'Columbia', 'Cowlitz', 'Douglas', 'Ferry', 'Franklin', 'Garfield', 'Grant', 'Grays Harbor', 'Island', 'Jefferson', 'King', 'Kitsap', 'Kittitas', 'Klickitat', 'Lewis', 'Lincoln', 'Mason', 'Okanogan', 'Pacific', 'Pend Oreille', 'Pierce', 'San Juan', 'Skagit', 'Skamania', 'Snohomish', 'Spokane', 'Stevens', 'Thurston', 'Wahkiakum', 'Walla Walla', 'Whatcom', 'Whitman', 'Yakima']\n"
     ]
    }
   ],
   "source": [
    "list_FIPs = []\n",
    "list_County = []\n",
    "County_cursor = arcpy.da.SearchCursor(f, [\"COUNTYFP10\", \"CountyName\"])\n",
    "for row in County_cursor:\n",
    "    list_County.append(str(row[1]))\n",
    "    list_FIPs.append(str(row[0]))\n",
    "    list_FIPs_unique = sorted(set(list_FIPs))\n",
    "    list_County_unique = sorted(set(list_County))\n",
    "print list_FIPs_unique\n",
    "\n",
    "print list_County_unique"
   ]
  },
  {
   "cell_type": "markdown",
   "metadata": {},
   "source": [
    "# The codes below are actually working!! And I got all 39 shapefiles of all 39 counties!! The next step is to turn the shp to geojson."
   ]
  },
  {
   "cell_type": "code",
   "execution_count": 25,
   "metadata": {
    "collapsed": false
   },
   "outputs": [],
   "source": [
    "arcpy.env.overwriteOutput = True # Make sure I can overwrite all the county shapefile\n",
    "with arcpy.da.SearchCursor(f, \"CountyName\") as cursor: # Set cursor\n",
    "    countylist = sorted({row[0] for row in cursor}) # Don't really understand what is happending here but \n",
    "                                                    # I know that all the counties in \"CountyName\" are sorted.\n",
    "\n",
    "for county in countylist:\n",
    "    where = \"CountyName = '{}'\".format(county)             \n",
    "    saep_10_lyr = arcpy.MakeFeatureLayer_management(\"C:\\\\Users\\\\sunz4\\\\Desktop\\\\shapefile_UTM\\saep_10.shp\", county + \".lyr\", where)                                                    \n",
    "    arcpy.FeatureClassToFeatureClass_conversion ( county + \".lyr\", \"C:\\\\Users\\\\sunz4\\\\Desktop\\\\County_shp\", county + \".shp\")"
   ]
  },
  {
   "cell_type": "code",
   "execution_count": 121,
   "metadata": {
    "collapsed": false
   },
   "outputs": [
    {
     "name": "stdout",
     "output_type": "stream",
     "text": [
      "U:\\GEOG 458\\Arcpy Lab\\County_shp\\Clallam.shp\n",
      "U:\\GEOG 458\\Arcpy Lab\\County_shp\\Grant.shp\n",
      "U:\\GEOG 458\\Arcpy Lab\\County_shp\\Asotin.shp\n",
      "U:\\GEOG 458\\Arcpy Lab\\County_shp\\Skagit.shp\n",
      "U:\\GEOG 458\\Arcpy Lab\\County_shp\\Kitsap.shp\n",
      "U:\\GEOG 458\\Arcpy Lab\\County_shp\\Pacific.shp\n",
      "U:\\GEOG 458\\Arcpy Lab\\County_shp\\Whatcom.shp\n",
      "U:\\GEOG 458\\Arcpy Lab\\County_shp\\Island.shp\n",
      "U:\\GEOG 458\\Arcpy Lab\\County_shp\\Benton.shp\n",
      "U:\\GEOG 458\\Arcpy Lab\\County_shp\\Adams.shp\n",
      "U:\\GEOG 458\\Arcpy Lab\\County_shp\\Mason.shp\n",
      "U:\\GEOG 458\\Arcpy Lab\\County_shp\\Cowlitz.shp\n",
      "U:\\GEOG 458\\Arcpy Lab\\County_shp\\Lewis.shp\n",
      "U:\\GEOG 458\\Arcpy Lab\\County_shp\\Okanogan.shp\n",
      "U:\\GEOG 458\\Arcpy Lab\\County_shp\\Ferry.shp\n",
      "U:\\GEOG 458\\Arcpy Lab\\County_shp\\Douglas.shp\n",
      "U:\\GEOG 458\\Arcpy Lab\\County_shp\\Garfield.shp\n",
      "U:\\GEOG 458\\Arcpy Lab\\County_shp\\Clark.shp\n",
      "U:\\GEOG 458\\Arcpy Lab\\County_shp\\Klickitat.shp\n",
      "U:\\GEOG 458\\Arcpy Lab\\County_shp\\Stevens.shp\n",
      "U:\\GEOG 458\\Arcpy Lab\\County_shp\\Columbia.shp\n",
      "U:\\GEOG 458\\Arcpy Lab\\County_shp\\Pend Oreille.shp\n",
      "U:\\GEOG 458\\Arcpy Lab\\County_shp\\Franklin.shp\n",
      "U:\\GEOG 458\\Arcpy Lab\\County_shp\\Pierce.shp\n",
      "U:\\GEOG 458\\Arcpy Lab\\County_shp\\Walla Walla.shp\n",
      "U:\\GEOG 458\\Arcpy Lab\\County_shp\\Chelan.shp\n",
      "U:\\GEOG 458\\Arcpy Lab\\County_shp\\Yakima.shp\n",
      "U:\\GEOG 458\\Arcpy Lab\\County_shp\\Jefferson.shp\n",
      "U:\\GEOG 458\\Arcpy Lab\\County_shp\\Skamania.shp\n",
      "U:\\GEOG 458\\Arcpy Lab\\County_shp\\Spokane.shp\n",
      "U:\\GEOG 458\\Arcpy Lab\\County_shp\\Snohomish.shp\n",
      "U:\\GEOG 458\\Arcpy Lab\\County_shp\\Grays Harbor.shp\n",
      "U:\\GEOG 458\\Arcpy Lab\\County_shp\\Wahkiakum.shp\n",
      "U:\\GEOG 458\\Arcpy Lab\\County_shp\\King.shp\n",
      "U:\\GEOG 458\\Arcpy Lab\\County_shp\\Kittitas.shp\n",
      "U:\\GEOG 458\\Arcpy Lab\\County_shp\\Thurston.shp\n",
      "U:\\GEOG 458\\Arcpy Lab\\County_shp\\San Juan.shp\n",
      "U:\\GEOG 458\\Arcpy Lab\\County_shp\\Lincoln.shp\n",
      "U:\\GEOG 458\\Arcpy Lab\\County_shp\\Whitman.shp\n"
     ]
    }
   ],
   "source": [
    "import glob\n",
    "path = (\"U:\\\\GEOG 458\\\\Arcpy Lab\\\\County_shp\\\\*.shp\")\n",
    "county_shp = glob.glob(path)\n",
    "for files in county_shp:\n",
    "    print files"
   ]
  },
  {
   "cell_type": "code",
   "execution_count": 116,
   "metadata": {
    "collapsed": false
   },
   "outputs": [
    {
     "name": "stdout",
     "output_type": "stream",
     "text": [
      "C:\\Users\\sunz4\\Desktop\\Geojson\\Adams.geojson\n",
      "C:\\Users\\sunz4\\Desktop\\Geojson\\Asotin.geojson\n",
      "C:\\Users\\sunz4\\Desktop\\Geojson\\Benton.geojson\n",
      "C:\\Users\\sunz4\\Desktop\\Geojson\\Chelan.geojson\n",
      "C:\\Users\\sunz4\\Desktop\\Geojson\\Clallam.geojson\n",
      "C:\\Users\\sunz4\\Desktop\\Geojson\\Clark.geojson\n",
      "C:\\Users\\sunz4\\Desktop\\Geojson\\Columbia.geojson\n",
      "C:\\Users\\sunz4\\Desktop\\Geojson\\Cowlitz.geojson\n",
      "C:\\Users\\sunz4\\Desktop\\Geojson\\Douglas.geojson\n",
      "C:\\Users\\sunz4\\Desktop\\Geojson\\Ferry.geojson\n",
      "C:\\Users\\sunz4\\Desktop\\Geojson\\Franklin.geojson\n",
      "C:\\Users\\sunz4\\Desktop\\Geojson\\Garfield.geojson\n",
      "C:\\Users\\sunz4\\Desktop\\Geojson\\Grant.geojson\n",
      "C:\\Users\\sunz4\\Desktop\\Geojson\\Grays Harbor.geojson\n",
      "C:\\Users\\sunz4\\Desktop\\Geojson\\Island.geojson\n",
      "C:\\Users\\sunz4\\Desktop\\Geojson\\Jefferson.geojson\n",
      "C:\\Users\\sunz4\\Desktop\\Geojson\\King.geojson\n",
      "C:\\Users\\sunz4\\Desktop\\Geojson\\Kitsap.geojson\n",
      "C:\\Users\\sunz4\\Desktop\\Geojson\\Kittitas.geojson\n",
      "C:\\Users\\sunz4\\Desktop\\Geojson\\Klickitat.geojson\n",
      "C:\\Users\\sunz4\\Desktop\\Geojson\\Lewis.geojson\n",
      "C:\\Users\\sunz4\\Desktop\\Geojson\\Lincoln.geojson\n",
      "C:\\Users\\sunz4\\Desktop\\Geojson\\Mason.geojson\n",
      "C:\\Users\\sunz4\\Desktop\\Geojson\\Okanogan.geojson\n",
      "C:\\Users\\sunz4\\Desktop\\Geojson\\Pacific.geojson\n",
      "C:\\Users\\sunz4\\Desktop\\Geojson\\Pend Oreille.geojson\n",
      "C:\\Users\\sunz4\\Desktop\\Geojson\\Pierce.geojson\n",
      "C:\\Users\\sunz4\\Desktop\\Geojson\\San Juan.geojson\n",
      "C:\\Users\\sunz4\\Desktop\\Geojson\\Skagit.geojson\n",
      "C:\\Users\\sunz4\\Desktop\\Geojson\\Skamania.geojson\n",
      "C:\\Users\\sunz4\\Desktop\\Geojson\\Snohomish.geojson\n",
      "C:\\Users\\sunz4\\Desktop\\Geojson\\Spokane.geojson\n",
      "C:\\Users\\sunz4\\Desktop\\Geojson\\Stevens.geojson\n",
      "C:\\Users\\sunz4\\Desktop\\Geojson\\Thurston.geojson\n",
      "C:\\Users\\sunz4\\Desktop\\Geojson\\Wahkiakum.geojson\n",
      "C:\\Users\\sunz4\\Desktop\\Geojson\\Walla Walla.geojson\n",
      "C:\\Users\\sunz4\\Desktop\\Geojson\\Whatcom.geojson\n",
      "C:\\Users\\sunz4\\Desktop\\Geojson\\Whitman.geojson\n",
      "C:\\Users\\sunz4\\Desktop\\Geojson\\Yakima.geojson\n"
     ]
    }
   ],
   "source": [
    "cursor = arcpy.SearchCursor(t)\n",
    "fields = \"CountyName\"\n",
    "for files in county_shp:\n",
    "    for row in cursor:\n",
    "        output = \"C:\\\\Users\\\\sunz4\\\\Desktop\\\\Geojson\\\\\" + row.getValue(fields) + \".geojson\"\n",
    "        call(['C:\\\\OSGeo4W64\\\\bin\\\\ogr2ogr',\n",
    "            '-f','GeoJSON','-t_srs','WGS84',\n",
    "            '-s_srs','EPSG:26913',\n",
    "            output,\n",
    "            files])\n",
    "        print output"
   ]
  },
  {
   "cell_type": "code",
   "execution_count": 4,
   "metadata": {
    "collapsed": false
   },
   "outputs": [
    {
     "name": "stdout",
     "output_type": "stream",
     "text": [
      "['001', '003', '005', '007', '009', '011', '013', '015', '017', '019', '021', '023', '025', '027', '029', '031', '033', '035', '037', '039', '041', '043', '045', '047', '049', '051', '053', '055', '057', '059', '061', '063', '065', '067', '069', '071', '073', '075', '077']\n"
     ]
    }
   ],
   "source": [
    "list_id = []\n",
    "cursor_1 = arcpy.da.SearchCursor(t, [\"FIPSCounty\"])\n",
    "for row in cursor_1:\n",
    "    list_id.append(str(row[0]))\n",
    "    unique = sorted(set(list_id))\n",
    "print unique   "
   ]
  },
  {
   "cell_type": "code",
   "execution_count": 100,
   "metadata": {
    "collapsed": true
   },
   "outputs": [],
   "source": [
    "# I actually already made the join, but it didn't work when I open this file with\n",
    "#another computer. It failed when I try to download the shapefile and the table again\n",
    "#rejoin. So, I used countyfp10 in the shapefile."
   ]
  },
  {
   "cell_type": "code",
   "execution_count": 36,
   "metadata": {
    "collapsed": false
   },
   "outputs": [
    {
     "name": "stdout",
     "output_type": "stream",
     "text": [
      "Population in each county[19510.0, 22150.0, 190500.0, 75910.0, 73409.999999999985, 461010.0, 4050.0, 104850.0, 40720.0, 7700.0000000000009, 88670.0, 2200.0, 94609.999999999985, 72819.999999999985, 82910.0, 31089.999999999996, 2105100.0, 262590.0, 43709.999999999993, 21270.0, 76890.0, 10640.0, 62320.0, 41730.000000000007, 21180.000000000004, 13290.0, 844490.0, 16320.0, 122270.0, 11500.000000000002, 772860.0, 492530.0, 44100.000000000007, 272690.0, 3999.9999999999995, 60730.000000000007, 212540.00000000003, 47940.0, 250900.00000000003]\n",
      "Counties(u'Adams',)\n",
      "Counties(u'Asotin',)\n",
      "Counties(u'Benton',)\n",
      "Counties(u'Chelan',)\n",
      "Counties(u'Clallam',)\n",
      "Counties(u'Clark',)\n",
      "Counties(u'Columbia',)\n",
      "Counties(u'Cowlitz',)\n",
      "Counties(u'Douglas',)\n",
      "Counties(u'Ferry',)\n",
      "Counties(u'Franklin',)\n",
      "Counties(u'Garfield',)\n",
      "Counties(u'Grant',)\n",
      "Counties(u'Grays Harbor',)\n",
      "Counties(u'Island',)\n",
      "Counties(u'Jefferson',)\n",
      "Counties(u'King',)\n",
      "Counties(u'Kitsap',)\n",
      "Counties(u'Kittitas',)\n",
      "Counties(u'Klickitat',)\n",
      "Counties(u'Lewis',)\n",
      "Counties(u'Lincoln',)\n",
      "Counties(u'Mason',)\n",
      "Counties(u'Okanogan',)\n",
      "Counties(u'Pacific',)\n",
      "Counties(u'Pend Oreille',)\n",
      "Counties(u'Pierce',)\n",
      "Counties(u'San Juan',)\n",
      "Counties(u'Skagit',)\n",
      "Counties(u'Skamania',)\n",
      "Counties(u'Snohomish',)\n",
      "Counties(u'Spokane',)\n",
      "Counties(u'Stevens',)\n",
      "Counties(u'Thurston',)\n",
      "Counties(u'Wahkiakum',)\n",
      "Counties(u'Walla Walla',)\n",
      "Counties(u'Whatcom',)\n",
      "Counties(u'Whitman',)\n",
      "Counties(u'Yakima',)\n",
      "Ten largest total population in 2016 of ocunties in WA:[(2105100.0, u'King'), (844490.0, u'Pierce'), (772860.0, u'Snohomish'), (492530.0, u'Spokane'), (461010.0, u'Clark'), (272690.0, u'Thurston'), (262590.0, u'Kitsap'), (250900.00000000003, u'Yakima'), (212540.00000000003, u'Whatcom'), (190500.0, u'Benton')]\n"
     ]
    }
   ],
   "source": [
    "import numpy as np\n",
    "population = []\n",
    "county = []\n",
    "arr = arcpy.da.FeatureClassToNumPyArray(f, (\"COUNTYFP10\", \"POP2016\"))\n",
    "for i in unique:\n",
    "    result = (arr[arr[\"COUNTYFP10\"] == i][\"POP2016\"].sum())\n",
    "    population.append(result)\n",
    "print \"Population in each county\" + str(population)\n",
    "\n",
    "cursor = arcpy.da.SearchCursor(t,[\"CountyName\"])\n",
    "for row in cursor:\n",
    "    county.append(row[0])\n",
    "    print \"Counties\" + str(row)\n",
    "    \n",
    "list_sum = [(population), (county)] \n",
    "result  = sorted(zip(*list_sum), reverse = True)\n",
    "\n",
    "print \"Ten largest total population in 2016 of ocunties in WA:\" + str(result[:10])"
   ]
  },
  {
   "cell_type": "code",
   "execution_count": null,
   "metadata": {
    "collapsed": true
   },
   "outputs": [],
   "source": []
  },
  {
   "cell_type": "code",
   "execution_count": null,
   "metadata": {
    "collapsed": true
   },
   "outputs": [],
   "source": []
  }
 ],
 "metadata": {
  "kernelspec": {
   "display_name": "Python 2",
   "language": "python",
   "name": "python2"
  },
  "language_info": {
   "codemirror_mode": {
    "name": "ipython",
    "version": 2
   },
   "file_extension": ".py",
   "mimetype": "text/x-python",
   "name": "python",
   "nbconvert_exporter": "python",
   "pygments_lexer": "ipython2",
   "version": "2.7.11"
  }
 },
 "nbformat": 4,
 "nbformat_minor": 0
}
